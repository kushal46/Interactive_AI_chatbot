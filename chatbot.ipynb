{
  "cells": [
    {
      "cell_type": "markdown",
      "metadata": {
        "id": "view-in-github",
        "colab_type": "text"
      },
      "source": [
        "<a href=\"https://colab.research.google.com/github/kushal46/Interactive_AI_chatbot/blob/main/chatbot.ipynb\" target=\"_parent\"><img src=\"https://colab.research.google.com/assets/colab-badge.svg\" alt=\"Open In Colab\"/></a>"
      ]
    },
    {
      "cell_type": "code",
      "execution_count": null,
      "id": "c0618dc1",
      "metadata": {
        "id": "c0618dc1"
      },
      "outputs": [],
      "source": [
        "import transformers  # Importing transformers library for natural language processing\n",
        "import os\n",
        "import datetime\n",
        "import numpy as np\n",
        "\n",
        "# Creating a ChatBot class\n",
        "class ChatBot():\n",
        "    def __init__(self, name):\n",
        "        self.name = name  # Initializing the bot with a name\n",
        "\n",
        "    # Function to \"speak\" or display text as if the AI is talking\n",
        "    def text_to_speech(self, text):\n",
        "        print(\"Cube --> \", text)\n",
        "\n",
        "    # Checking if the bot's name is mentioned in the input\n",
        "    def wake_up(self, text):\n",
        "        return True if self.name in text.lower() else False\n",
        "\n",
        "    # Getting the current time\n",
        "    def action_time(self):\n",
        "        return datetime.datetime.now().time().strftime('%H:%M')\n",
        "\n",
        "    # Main function for interacting with the bot\n",
        "    def chat_with_bot(self, user_input):\n",
        "        # Creating a conversational pipeline using DialoGPT\n",
        "        nlp = transformers.pipeline(\"conversational\", model=\"microsoft/DialoGPT-medium\")\n",
        "        ex = True  # Flag for exiting the conversation\n",
        "        while ex:\n",
        "            text = user_input()  # Getting user input\n",
        "            ## wake up\n",
        "            if self.wake_up(text) is True:  # If bot's name is mentioned, respond with a greeting\n",
        "                res = \"Hello! I am Cube the AI, what can I do for you?\"\n",
        "            ## action time\n",
        "            elif \"time\" in text:  # If user asks for time, respond with the current time\n",
        "                res = self.action_time()\n",
        "            ## respond politely\n",
        "            elif any(i in text for i in [\"thank\", \"thanks\"]):  # If user says thanks, respond politely\n",
        "                res = np.random.choice([\"you're welcome!\", \"anytime!\", \"no problem!\", \"cool!\",\n",
        "                                        \"I'm here if you need me!\", \"mention not\"])\n",
        "            elif any(i in text for i in [\"exit\", \"close\"]):  # If user wants to exit, bid goodbye\n",
        "                res = np.random.choice([\"Tata\", \"Have a good day\", \"Bye\", \"Goodbye\", \"Hope to meet soon\", \"peace out!\"])\n",
        "                ex = False  # Set the exit flag to end the conversation\n",
        "            ## conversation\n",
        "            else:  # If none of the specific triggers are detected, engage in a conversation using DialoGPT\n",
        "                chat = nlp(transformers.Conversation(text), pad_token_id=50256)\n",
        "                res = str(chat)\n",
        "                res = res[res.find(\"bot >> \")+6:].strip()  # Extracting and formatting the bot's response\n",
        "            self.text_to_speech(res)  # Displaying the bot's response as if it's speaking\n",
        "        print(\"----- Closing down Cube -----\")  # Displaying closing message\n"
      ]
    },
    {
      "cell_type": "markdown",
      "source": [],
      "metadata": {
        "id": "hqE4YdODaT02"
      },
      "id": "hqE4YdODaT02"
    },
    {
      "cell_type": "code",
      "execution_count": null,
      "id": "d973d321",
      "metadata": {
        "id": "d973d321"
      },
      "outputs": [],
      "source": [
        "\n",
        "# Function to take text input from the user\n",
        "def get_user_input():\n",
        "    return input(\"You: \")  # Getting user input and returning it"
      ]
    },
    {
      "cell_type": "code",
      "execution_count": null,
      "id": "1b0f5a61",
      "metadata": {
        "id": "1b0f5a61"
      },
      "outputs": [],
      "source": [
        "# Usage function to start the conversation with the bot\n",
        "def start_chat():\n",
        "    ai = ChatBot(name=\"Cube\")  # Creating an instance of the ChatBot class\n",
        "    ai.chat_with_bot(get_user_input)  # Starting the conversation with the bot"
      ]
    },
    {
      "cell_type": "code",
      "execution_count": null,
      "id": "854bb06d",
      "metadata": {
        "colab": {
          "base_uri": "https://localhost:8080/"
        },
        "id": "854bb06d",
        "outputId": "1e3c9503-50fa-463a-c549-d97b1c26b26e"
      },
      "outputs": [
        {
          "name": "stdout",
          "output_type": "stream",
          "text": [
            "You: hii\n"
          ]
        },
        {
          "output_type": "stream",
          "name": "stderr",
          "text": [
            "A decoder-only architecture is being used, but right-padding was detected! For correct generation results, please set `padding_side='left'` when initializing the tokenizer.\n"
          ]
        },
        {
          "name": "stdout",
          "output_type": "stream",
          "text": [
            "Cube -->  rsation id: 2c4ba3a2-dbc3-4f1c-b116-3d96c2f312a7\n",
            "user: hii\n",
            "assistant: hi\n",
            "You: how are you\n"
          ]
        },
        {
          "output_type": "stream",
          "name": "stderr",
          "text": [
            "A decoder-only architecture is being used, but right-padding was detected! For correct generation results, please set `padding_side='left'` when initializing the tokenizer.\n"
          ]
        },
        {
          "name": "stdout",
          "output_type": "stream",
          "text": [
            "Cube -->  rsation id: 47b5684e-9984-4f7b-b681-76db275a80c8\n",
            "user: how are you\n",
            "assistant: I'm good, how are you?\n",
            "You: how was your day\n"
          ]
        },
        {
          "output_type": "stream",
          "name": "stderr",
          "text": [
            "A decoder-only architecture is being used, but right-padding was detected! For correct generation results, please set `padding_side='left'` when initializing the tokenizer.\n"
          ]
        },
        {
          "output_type": "stream",
          "name": "stdout",
          "text": [
            "Cube -->  rsation id: 92c06124-2b71-4b69-a875-9e321bf7ebe2\n",
            "user: how was your day\n",
            "assistant: It was okay.\n",
            "You: exit \n",
            "Cube -->  peace out!\n",
            "----- Closing down Cube -----\n"
          ]
        }
      ],
      "source": [
        "# Starting the chat\n",
        "start_chat()"
      ]
    },
    {
      "cell_type": "code",
      "execution_count": null,
      "id": "522a1ab1",
      "metadata": {
        "id": "522a1ab1"
      },
      "outputs": [],
      "source": []
    }
  ],
  "metadata": {
    "kernelspec": {
      "display_name": "Python 3 (ipykernel)",
      "language": "python",
      "name": "python3"
    },
    "language_info": {
      "codemirror_mode": {
        "name": "ipython",
        "version": 3
      },
      "file_extension": ".py",
      "mimetype": "text/x-python",
      "name": "python",
      "nbconvert_exporter": "python",
      "pygments_lexer": "ipython3",
      "version": "3.10.9"
    },
    "colab": {
      "provenance": [],
      "include_colab_link": true
    }
  },
  "nbformat": 4,
  "nbformat_minor": 5
}